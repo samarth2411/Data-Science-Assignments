{
 "cells": [
  {
   "cell_type": "markdown",
   "id": "03adc0ce-3ec6-4f68-ba50-7f980383d00f",
   "metadata": {},
   "source": [
    "## Python Basics Variable"
   ]
  },
  {
   "cell_type": "markdown",
   "id": "2c24828b-02ea-4d20-b6aa-e74ccefb455d",
   "metadata": {},
   "source": [
    " Question 1 .) Declare two variables, `x` and `y`, and assign them integer values.\n",
    " Swap the values of these variables without using any temporary\n",
    " variable."
   ]
  },
  {
   "cell_type": "code",
   "execution_count": 6,
   "id": "8edd353c-c724-477f-b401-a49a3d615f1a",
   "metadata": {},
   "outputs": [
    {
     "name": "stdin",
     "output_type": "stream",
     "text": [
      "Enter the first number 10\n",
      "Enter the second number 15\n"
     ]
    },
    {
     "name": "stdout",
     "output_type": "stream",
     "text": [
      "Original x : 10\n",
      "Original y : 15\n",
      "Swapped x : 15\n",
      "Swapped y : 10\n"
     ]
    }
   ],
   "source": [
    "# Solution 1.) \n",
    "x = int(input('Enter the first number'))\n",
    "y = int(input('Enter the second number'))\n",
    "print('Original x :', x)\n",
    "print('Original y :', y)\n",
    "\n",
    "# swaping logic \n",
    "x = x+y\n",
    "y = x-y\n",
    "x = x-y\n",
    "print('Swapped x :', x)\n",
    "print('Swapped y :', y)\n"
   ]
  },
  {
   "cell_type": "markdown",
   "id": "d7ce3cb8-a2e7-4019-a2ab-8786c0adf203",
   "metadata": {},
   "source": [
    " Question 2. ) Create a program that calculates the area of a rectangle. Take the\n",
    " length and width as inputs from the user and store them in variables.\n",
    " Calculate and display the area."
   ]
  },
  {
   "cell_type": "code",
   "execution_count": 1,
   "id": "4eaab0df-1ae8-4a9d-87cd-6bbacdd9f7b6",
   "metadata": {},
   "outputs": [
    {
     "name": "stdin",
     "output_type": "stream",
     "text": [
      "Enter the length of the rectangle 65\n",
      "Enter the width of the rectangle 100\n"
     ]
    },
    {
     "name": "stdout",
     "output_type": "stream",
     "text": [
      "Area of rectangle is : 6500.0\n"
     ]
    }
   ],
   "source": [
    "#Solution 2.) \n",
    "length = float(input('Enter the length of the rectangle')) # taking length as input from the user\n",
    "width = float(input('Enter the width of the rectangle')) # taking width as input from the user\n",
    "area = length * width # calculating the area of rectangle \n",
    "print('Area of rectangle is :', area)"
   ]
  },
  {
   "cell_type": "markdown",
   "id": "3588cd89-6544-4883-bcb5-83ba3e64aa1b",
   "metadata": {},
   "source": [
    " Question 3.) Write a Python program that converts temperature from Celsius to\n",
    " Fahrenheit. Take the temperature in Celsius as input, store it in a\n",
    " variable, convert it to Fahrenheit, and display the result."
   ]
  },
  {
   "cell_type": "code",
   "execution_count": 2,
   "id": "a6544cad-c120-4952-ba29-bc04bda7c433",
   "metadata": {},
   "outputs": [
    {
     "name": "stdin",
     "output_type": "stream",
     "text": [
      "Enter the temperature in celsius 10.6\n"
     ]
    },
    {
     "name": "stdout",
     "output_type": "stream",
     "text": [
      "Corresponding Fahrenheit Temprature is : 51.08\n"
     ]
    }
   ],
   "source": [
    "#Solution 3.) \n",
    "temp_celsius = float(input('Enter the temperature in celsius'))\n",
    "temp_fahrenheit = (temp_celsius * 1.8) + 32 # converting celcius to fahrenheit\n",
    "print('Corresponding Fahrenheit Temprature is :', temp_fahrenheit)"
   ]
  },
  {
   "cell_type": "markdown",
   "id": "501ad603-ba67-41f1-901a-5f8f37b27ce0",
   "metadata": {},
   "source": [
    "## String Based Questions \n"
   ]
  },
  {
   "cell_type": "markdown",
   "id": "5c630228-f56c-492f-8d0a-64e1755e838f",
   "metadata": {},
   "source": [
    "Question 1.) Write a Python program that takes a string as input and prints the\n",
    "length of the string."
   ]
  },
  {
   "cell_type": "code",
   "execution_count": 13,
   "id": "8944ebd8-74ee-4642-94d8-f11d845b49b2",
   "metadata": {},
   "outputs": [
    {
     "name": "stdin",
     "output_type": "stream",
     "text": [
      "Enter a String Samarth Porwal\n"
     ]
    },
    {
     "name": "stdout",
     "output_type": "stream",
     "text": [
      "Length of the string is : 14\n"
     ]
    }
   ],
   "source": [
    "# Solution 1.) \n",
    "user_input = input('Enter a String') # not converting it into string because by defalult it takes input as a string only \n",
    "length_user_input = len(user_input) # using inbuilt len function to print the length of the string \n",
    "print('Length of the string is :', length_user_input)"
   ]
  },
  {
   "cell_type": "markdown",
   "id": "25d78e36-4c91-4edb-9b27-042071c08b6c",
   "metadata": {},
   "source": [
    "Question 2.) Create a program that takes a sentence from the user and counts the\n",
    "number of vowels (a, e, i, o, u) in the string."
   ]
  },
  {
   "cell_type": "code",
   "execution_count": 5,
   "id": "04ee2183-5d93-40e2-8eac-b2210707f5c7",
   "metadata": {},
   "outputs": [
    {
     "name": "stdin",
     "output_type": "stream",
     "text": [
      "Enter the string Orange\n"
     ]
    },
    {
     "name": "stdout",
     "output_type": "stream",
     "text": [
      "Total Number of vowels in the string : 3\n"
     ]
    }
   ],
   "source": [
    "# Solution 2.) \n",
    "vowel_count = 0\n",
    "user_input = input('Enter the string')\n",
    "for i in user_input: # converting the string to character array by simply iterating into the string \n",
    "    if(i=='a' or i=='e' or i=='i' or i=='o' or i=='u' or i=='A' or i=='E' or i=='I' or i=='O' or i=='U'):\n",
    "        vowel_count = vowel_count+1\n",
    "print('Total Number of vowels in the string :', vowel_count)"
   ]
  },
  {
   "cell_type": "markdown",
   "id": "879b105b-f3f4-4c1d-a2a9-1c82b522919c",
   "metadata": {},
   "source": [
    "Question 3.) Given a string, reverse the order of characters using string slicing and print the reversed string."
   ]
  },
  {
   "cell_type": "code",
   "execution_count": 3,
   "id": "9bb051f5-e369-4447-94f8-1f47536715c4",
   "metadata": {},
   "outputs": [
    {
     "name": "stdin",
     "output_type": "stream",
     "text": [
      "Enter a string Samarth Porwal\n"
     ]
    },
    {
     "name": "stdout",
     "output_type": "stream",
     "text": [
      "Original String : Samarth Porwal\n",
      "Reversed String : lawroP htramaS\n"
     ]
    }
   ],
   "source": [
    "# Solution 3.) \n",
    "original_string = input('Enter a string')\n",
    "reversed_string = original_string[::-1]  # slicing the string from backwards \n",
    "print('Original String :', original_string)\n",
    "print('Reversed String :', reversed_string)"
   ]
  },
  {
   "cell_type": "markdown",
   "id": "8a8f2935-c73f-4348-9aeb-2c64f372869e",
   "metadata": {},
   "source": [
    "Question 4.) Write a program that takes a string as input and checks if it is a\n",
    "palindrome (reads the same forwards and backwards)."
   ]
  },
  {
   "cell_type": "code",
   "execution_count": 6,
   "id": "1c23a139-f730-4102-996b-5b089e861e28",
   "metadata": {},
   "outputs": [
    {
     "name": "stdin",
     "output_type": "stream",
     "text": [
      "Enter a string NAMAN\n"
     ]
    },
    {
     "name": "stdout",
     "output_type": "stream",
     "text": [
      "Original String : NAMAN\n",
      "Reversed String : NAMAN\n",
      "The given string is Pallindrome\n"
     ]
    }
   ],
   "source": [
    "# Solution 4.) \n",
    "original_string1 = input('Enter a string')\n",
    "reversed_string1 = original_string1[::-1]\n",
    "print('Original String :', original_string1)\n",
    "print('Reversed String :', reversed_string1)\n",
    "if original_string1 == reversed_string1:\n",
    "    print('The given string is Pallindrome')\n",
    "else:\n",
    "    print('The given string is not Pallindrome')"
   ]
  },
  {
   "cell_type": "markdown",
   "id": "4016be67-f9b8-4a09-9dbc-fa7b360e28df",
   "metadata": {},
   "source": [
    "Question 5.) Create a program that takes a string as input and removes all the\n",
    "spaces from it. Print the modified string without spaces."
   ]
  },
  {
   "cell_type": "code",
   "execution_count": 1,
   "id": "34bd0a16-2c17-401c-82ed-ca3c261fa413",
   "metadata": {},
   "outputs": [
    {
     "name": "stdin",
     "output_type": "stream",
     "text": [
      "Enter the string with spaces          How Are You    Samarth Porwal   $$$\n"
     ]
    },
    {
     "name": "stdout",
     "output_type": "stream",
     "text": [
      "Original String :          How Are You    Samarth Porwal   $$$\n",
      "String without spaces : HowAreYouSamarthPorwal$$$\n"
     ]
    }
   ],
   "source": [
    "# Solution 5.) \n",
    "string_with_spaces = input('Enter the string with spaces')\n",
    "print('Original String :', string_with_spaces)\n",
    "string_without_spaces = string_with_spaces.replace(\" \",\"\") # replacing all  the spaces , so to get a string without any spaces \n",
    "print('String without spaces :', string_without_spaces)"
   ]
  }
 ],
 "metadata": {
  "kernelspec": {
   "display_name": "Python 3 (ipykernel)",
   "language": "python",
   "name": "python3"
  },
  "language_info": {
   "codemirror_mode": {
    "name": "ipython",
    "version": 3
   },
   "file_extension": ".py",
   "mimetype": "text/x-python",
   "name": "python",
   "nbconvert_exporter": "python",
   "pygments_lexer": "ipython3",
   "version": "3.10.8"
  }
 },
 "nbformat": 4,
 "nbformat_minor": 5
}
